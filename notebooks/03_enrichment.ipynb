{
 "cells": [
  {
   "cell_type": "markdown",
   "id": "81f8f28e",
   "metadata": {},
   "source": [
    "# 🧹 03 - Enrichissement des données OpenFoodFacts\n",
    "Ce notebook a pour objectif d'enrichir les données déjà transformées en CSV et nettoyées.\n"
   ]
  },
  {
   "cell_type": "code",
   "execution_count": 1,
   "id": "051ce749-24b0-4a06-9c20-8066f20b832d",
   "metadata": {},
   "outputs": [],
   "source": [
    "# 0. Stoppe toute session existante\n",
    "try:\n",
    "    spark.stop()\n",
    "except:\n",
    "    pass\n",
    "\n",
    "# Recréation SparkSession en local, FS local et driver binding fixe\n",
    "from pyspark.sql import SparkSession\n",
    "spark = (\n",
    "    SparkSession.builder\n",
    "        .appName(\"03_Enrichment\")\n",
    "        .master(\"local[*]\")\n",
    "        .config(\"spark.hadoop.fs.defaultFS\", \"file:///\")\n",
    "        .config(\"spark.driver.host\", \"127.0.0.1\")\n",
    "        .config(\"spark.driver.bindAddress\", \"0.0.0.0\")\n",
    "        .getOrCreate()\n",
    ")\n"
   ]
  },
  {
   "cell_type": "code",
   "execution_count": 2,
   "id": "25b69f9e-0e8a-47da-9ff9-bec3ffd1030c",
   "metadata": {},
   "outputs": [
    {
     "name": "stdout",
     "output_type": "stream",
     "text": [
      "✅ Données chargées : 3,247,216 lignes, 161 colonnes\n"
     ]
    }
   ],
   "source": [
    "# Chargement des données nettoyées depuis le CSV généré à l'étape précédente\n",
    "input_path = \"../data/step2_cleaned_csv\"\n",
    "\n",
    "df_cleaned = (\n",
    "    spark.read\n",
    "        .option(\"header\", \"true\")\n",
    "        .option(\"inferSchema\", \"true\")\n",
    "        .option(\"sep\", \";\")\n",
    "        .csv(input_path)\n",
    ")\n",
    "\n",
    "print(f\"✅ Données chargées : {df_cleaned.count():,} lignes, {len(df_cleaned.columns)} colonnes\")\n"
   ]
  },
  {
   "cell_type": "code",
   "execution_count": 3,
   "id": "1eeaa89d-98d4-4591-8b33-6f9611aadd0c",
   "metadata": {},
   "outputs": [],
   "source": [
    "#Conversion de energy_100g en kcal\n",
    "from pyspark.sql.functions import when, regexp_replace , col\n",
    "\n",
    "df_enriched  = df_cleaned \\\n",
    "    .withColumn(\"energy_kcal_100g\", when(col(\"energy_100g\").rlike(\"^[0-9]+$\"),\n",
    "                                         col(\"energy_100g\") / 4.184)\n",
    "                .otherwise(\n",
    "                    when(col(\"energy_100g\").rlike(\"^[0-9]+\\\\.?[0-9]* kcal$\"),\n",
    "                         regexp_replace(col(\"energy_100g\"), \" kcal\", \"\").cast(\"double\"))\n",
    "                )) \\\n",
    "    .withColumn(\"energy_100g\", when(col(\"energy_100g\").rlike(\"^[0-9]+$\"),\n",
    "                                    col(\"energy_100g\").cast(\"double\")))\n"
   ]
  },
  {
   "cell_type": "code",
   "execution_count": 4,
   "id": "44e2c048-cc13-4565-bb4a-24d7cc358b51",
   "metadata": {},
   "outputs": [],
   "source": [
    "#Catégories nutritionnelles personnalisées\n",
    "\n",
    "# profil énergétique\n",
    "df_enriched  = df_enriched .withColumn(\"profil_energetique\",\n",
    "    when(col(\"energy-kcal_100g\") < 100, \"🔵 Faible\")\n",
    "    .when(col(\"energy-kcal_100g\") < 250, \"🟡 Modérée\")\n",
    "    .otherwise(\"🔴 Élevée\")\n",
    ")\n",
    "\n",
    "# score sucré\n",
    "df_enriched  = df_enriched .withColumn(\"profil_sucre\",\n",
    "    when(col(\"sugars_100g\") < 5, \"Peu sucré\")\n",
    "    .when(col(\"sugars_100g\") < 15, \"Modéré\")\n",
    "    .otherwise(\"Très sucré\")\n",
    ")\n"
   ]
  },
  {
   "cell_type": "code",
   "execution_count": 5,
   "id": "01088f37-e3e2-4067-bfdd-ec91ffc6a7c0",
   "metadata": {},
   "outputs": [],
   "source": [
    "#Tags nutritionnels (booléens)\n",
    "df_enriched  = df_enriched .withColumn(\"is_vegan\", col(\"ingredients_tags\").contains(\"vegan\"))\n",
    "df_enriched  = df_enriched .withColumn(\"is_vegetarian\", col(\"ingredients_tags\").contains(\"vegetarian\"))\n",
    "df_enriched  = df_enriched .withColumn(\"is_sans_sucre\", col(\"sugars_100g\") < 0.5)\n",
    "df_enriched  = df_enriched .withColumn(\"is_protein_plus\", col(\"proteins_100g\") > 10)\n",
    "df_enriched  = df_enriched .withColumn(\"is_light\", col(\"fat_100g\") < 3)\n",
    "df_enriched = df_enriched.withColumn(\"is_ultra_transformed\", col(\"nova_group\") == 4)\n"
   ]
  },
  {
   "cell_type": "code",
   "execution_count": 6,
   "id": "82b10764-711a-4589-b221-5ce1218c95a7",
   "metadata": {},
   "outputs": [
    {
     "name": "stdout",
     "output_type": "stream",
     "text": [
      "+----------------+----------+----------------+----------+---------------+-------------------+\n",
      "|nutriscore_grade|nova_group|nutriscore_value|nova_score|score_composite|profil_global      |\n",
      "+----------------+----------+----------------+----------+---------------+-------------------+\n",
      "|a               |1         |5               |4         |4.4            |🥦 Très sain       |\n",
      "|d               |4         |2               |1         |1.4            |🔴 Peu sain        |\n",
      "|c               |4         |3               |1         |1.8            |🔴 Peu sain        |\n",
      "|e               |4         |1               |1         |1.0            |🔴 Peu sain        |\n",
      "|c               |4         |3               |1         |1.8            |🔴 Peu sain        |\n",
      "|e               |4         |1               |1         |1.0            |🔴 Peu sain        |\n",
      "|a               |3         |5               |2         |3.2            |🟢 Assez sain      |\n",
      "|c               |4         |3               |1         |1.8            |🔴 Peu sain        |\n",
      "|d               |3         |2               |2         |2.0            |🟠 Moyennement sain|\n",
      "|e               |4         |1               |1         |1.0            |🔴 Peu sain        |\n",
      "+----------------+----------+----------------+----------+---------------+-------------------+\n",
      "only showing top 10 rows\n",
      "\n",
      "✅ Nombre de lignes avec un profil global non vide : 727,286\n"
     ]
    }
   ],
   "source": [
    "# profil alimentaire\n",
    "from pyspark.sql.functions import when, col, expr\n",
    "\n",
    "# 1. Convertir nutriscore_grade (a-e) en score numérique (5-1)\n",
    "df_enriched = df_enriched.withColumn(\"nutriscore_value\",\n",
    "    when(col(\"nutriscore_grade\") == \"a\", 5)\n",
    "    .when(col(\"nutriscore_grade\") == \"b\", 4)\n",
    "    .when(col(\"nutriscore_grade\") == \"c\", 3)\n",
    "    .when(col(\"nutriscore_grade\") == \"d\", 2)\n",
    "    .when(col(\"nutriscore_grade\") == \"e\", 1)\n",
    "    .otherwise(None)\n",
    ")\n",
    "\n",
    "# 2. Convertir nova_group (1-4) en score nutritionnel (4-1)\n",
    "df_enriched = df_enriched.withColumn(\"nova_score\",\n",
    "    when(col(\"nova_group\") == 1, 4)\n",
    "    .when(col(\"nova_group\") == 2, 3)\n",
    "    .when(col(\"nova_group\") == 3, 2)\n",
    "    .when(col(\"nova_group\") == 4, 1)\n",
    "    .otherwise(None)\n",
    ")\n",
    "\n",
    "# 3. Score composite : combinaison pondérée (40% NutriScore, 60% NOVA)\n",
    "df_enriched = df_enriched.withColumn(\"score_composite\",\n",
    "    expr(\"nutriscore_value * 0.4 + nova_score * 0.6\")\n",
    ")\n",
    "\n",
    "# 4. Étiquette lisible pour le score global\n",
    "df_enriched = df_enriched.withColumn(\"profil_global\",\n",
    "    when(col(\"score_composite\").isNull(), None)\n",
    "    .when(col(\"score_composite\") >= 4.0, \"🥦 Très sain\")\n",
    "    .when(col(\"score_composite\") >= 3.0, \"🟢 Assez sain\")\n",
    "    .when(col(\"score_composite\") >= 2.0, \"🟠 Moyennement sain\")\n",
    "    .otherwise(\"🔴 Peu sain\")\n",
    ")\n",
    "\n",
    "# 🔍 Vérification\n",
    "df_enriched \\\n",
    "    .filter(col(\"nutriscore_value\").isNotNull() & col(\"nova_score\").isNotNull()) \\\n",
    "    .select(\"nutriscore_grade\", \"nova_group\", \"nutriscore_value\", \"nova_score\", \"score_composite\", \"profil_global\") \\\n",
    "    .show(10, truncate=False)\n",
    "count_non_null = df_enriched.filter(col(\"profil_global\").isNotNull()).count()\n",
    "print(f\"✅ Nombre de lignes avec un profil global non vide : {count_non_null:,}\")"
   ]
  },
  {
   "cell_type": "code",
   "execution_count": 7,
   "id": "7b8cf350-0244-4544-b64e-da9e52c55f57",
   "metadata": {},
   "outputs": [
    {
     "name": "stdout",
     "output_type": "stream",
     "text": [
      "✅ Nombre de lignes avec un profil écolo (flexible) non vide : 651,536\n"
     ]
    }
   ],
   "source": [
    "# Impact environnemental \n",
    "from pyspark.sql.functions import col, when, expr\n",
    "\n",
    "# Recrée la colonne empreinte_carbone_score si elle a été perdue\n",
    "df_enriched = df_enriched.withColumn(\"empreinte_carbone_score\",\n",
    "    when(col(\"carbon-footprint_100g\") <= 1, 5)\n",
    "    .when(col(\"carbon-footprint_100g\") <= 5, 4)\n",
    "    .when(col(\"carbon-footprint_100g\") <= 10, 3)\n",
    "    .when(col(\"carbon-footprint_100g\") <= 20, 2)\n",
    "    .when(col(\"carbon-footprint_100g\").isNotNull(), 1)\n",
    ")\n",
    "\n",
    "# Recrée l'eco_score\n",
    "df_enriched = df_enriched.withColumn(\"eco_score\",\n",
    "    when(col(\"environmental_score_score\").isNotNull(),\n",
    "         6 - (col(\"environmental_score_score\") / 10))\n",
    ")\n",
    "\n",
    "# Score environnemental flexible : accepte même s'il manque une des deux métriques\n",
    "df_enriched = df_enriched.withColumn(\"score_env_composite_flexible\",\n",
    "    when(col(\"empreinte_carbone_score\").isNotNull() & col(\"eco_score\").isNotNull(),\n",
    "         expr(\"0.5 * empreinte_carbone_score + 0.5 * eco_score\"))\n",
    "    .when(col(\"empreinte_carbone_score\").isNotNull(), col(\"empreinte_carbone_score\") * 1.0)\n",
    "    .when(col(\"eco_score\").isNotNull(), col(\"eco_score\") * 1.0)\n",
    ")\n",
    "\n",
    "# Profil écologique lisible\n",
    "df_enriched = df_enriched.withColumn(\"profil_ecolo_flexible\",\n",
    "    when(col(\"score_env_composite_flexible\") >= 4.0, \"♻️ Très faible impact\")\n",
    "    .when(col(\"score_env_composite_flexible\") >= 3.0, \"🟢 Faible impact\")\n",
    "    .when(col(\"score_env_composite_flexible\") >= 2.0, \"🟠 Impact modéré\")\n",
    "    .when(col(\"score_env_composite_flexible\").isNotNull(), \"🔴 Fort impact\")\n",
    ")\n",
    "\n",
    "# 🔍 Vérification + Comptage\n",
    "df_enriched \\\n",
    "    .filter(col(\"score_env_composite_flexible\").isNotNull()) \\\n",
    "    .select(\"carbon-footprint_100g\", \"environmental_score_score\", \"empreinte_carbone_score\", \"eco_score\", \"score_env_composite_flexible\", \"profil_ecolo_flexible\") \\\n",
    "    .show(10, truncate=False)\n",
    "count_flexible = df_enriched.filter(col(\"score_env_composite_flexible\").isNotNull()).count()\n",
    "print(f\"✅ Nombre de lignes avec un profil écolo (flexible) non vide : {count_flexible:,}\")"
   ]
  },
  {
   "cell_type": "code",
   "execution_count": 8,
   "id": "da0a3ff9-fdd5-413e-80c0-3550b8f26d85",
   "metadata": {},
   "outputs": [
    {
     "name": "stdout",
     "output_type": "stream",
     "text": [
      "🗑️ Ancienne sortie supprimée : /home/jovyan/work/data/step3_enriched_csv\n",
      "✅ Données enrichies écrites en CSV dans : /home/jovyan/work/data/step3_enriched_csv\n"
     ]
    }
   ],
   "source": [
    "# 💾 Sauvegarde des données enrichies (CSV)\n",
    "import os, shutil\n",
    "\n",
    "# 1. Préparer le dossier de sortie\n",
    "folder = os.path.abspath(os.path.join(os.getcwd(), \"../data\"))\n",
    "os.makedirs(folder, exist_ok=True)\n",
    "\n",
    "# 2. Chemin vers le nouveau dossier CSV\n",
    "csv_target = os.path.join(folder, \"step3_enriched_csv\")\n",
    "\n",
    "# 3. Supprimer l'ancienne sortie si elle existe\n",
    "if os.path.exists(csv_target):\n",
    "    shutil.rmtree(csv_target)\n",
    "    print(\"🗑️ Ancienne sortie supprimée :\", csv_target)\n",
    "\n",
    "# 4. Écriture au format CSV avec en-têtes\n",
    "df_enriched \\\n",
    "    .coalesce(1) \\\n",
    "    .write \\\n",
    "    .option(\"header\", \"true\") \\\n",
    "    .option(\"sep\", \";\") \\\n",
    "    .mode(\"overwrite\") \\\n",
    "    .csv(csv_target)\n",
    "\n",
    "print(\"✅ Données enrichies écrites en CSV dans :\", csv_target)\n"
   ]
  }
 ],
 "metadata": {
  "kernelspec": {
   "display_name": "Python 3 (ipykernel)",
   "language": "python",
   "name": "python3"
  },
  "language_info": {
   "codemirror_mode": {
    "name": "ipython",
    "version": 3
   },
   "file_extension": ".py",
   "mimetype": "text/x-python",
   "name": "python",
   "nbconvert_exporter": "python",
   "pygments_lexer": "ipython3",
   "version": "3.10.6"
  }
 },
 "nbformat": 4,
 "nbformat_minor": 5
}
