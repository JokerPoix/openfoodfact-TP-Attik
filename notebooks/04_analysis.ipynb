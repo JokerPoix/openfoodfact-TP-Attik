{
 "cells": [
  {
   "cell_type": "markdown",
   "id": "6ba7aba4",
   "metadata": {},
   "source": [
    "# 📊 04 - Analyse de Données avec Spark\n",
    "Ce notebook a pour objectif d'analyser les données déjà transformées, nettoyées et enrichies.\n"
   ]
  },
  {
   "cell_type": "code",
   "execution_count": 1,
   "id": "227980a4-00b6-4f3b-b6b3-fd51250c1e29",
   "metadata": {},
   "outputs": [],
   "source": [
    "# 0. Stoppe toute session existante\n",
    "try:\n",
    "    spark.stop()\n",
    "except:\n",
    "    pass\n",
    "\n",
    "# Recréation SparkSession en local, FS local et driver binding fixe\n",
    "from pyspark.sql import SparkSession\n",
    "spark = (\n",
    "    SparkSession.builder\n",
    "        .appName(\"03_Enrichment\")\n",
    "        .master(\"local[*]\")\n",
    "        .config(\"spark.hadoop.fs.defaultFS\", \"file:///\")\n",
    "        .config(\"spark.driver.host\", \"127.0.0.1\")\n",
    "        .config(\"spark.driver.bindAddress\", \"0.0.0.0\")\n",
    "        .getOrCreate()\n",
    ")\n"
   ]
  },
  {
   "cell_type": "code",
   "execution_count": 2,
   "id": "65f9d412",
   "metadata": {},
   "outputs": [],
   "source": [
    "from pyspark.sql.functions import col, lower, trim, count\n",
    "import os\n",
    "\n",
    "# 1. Chargement\n",
    "path = os.path.abspath(os.path.join(os.getcwd(), \"../data/step3_enriched_csv\"))\n",
    "df_enriched = spark.read.option(\"header\", \"true\").option(\"sep\", \";\").csv(path)"
   ]
  },
  {
   "cell_type": "code",
   "execution_count": 3,
   "id": "c84938c7-9644-4a48-a095-6964c53a5855",
   "metadata": {},
   "outputs": [],
   "source": [
    "# Marques les plus fréquentes\n",
    "top_brands = df_enriched.groupBy(\"brands\") \\\n",
    "    .count() \\\n",
    "    .orderBy(\"count\", ascending=False) \\\n",
    "    .filter(col(\"brands\").isNotNull() & (col(\"brands\") != \"\")) \\\n",
    "    .limit(30)\n",
    "\n",
    "# Sauvegarde pour la visualisation\n",
    "top_brands.coalesce(1) \\\n",
    "    .write.option(\"header\", \"true\") \\\n",
    "    .mode(\"overwrite\") \\\n",
    "    .csv(\"../data/viz_top_brands\")"
   ]
  },
  {
   "cell_type": "code",
   "execution_count": 4,
   "id": "fb54ef92-9ad3-4035-a391-63241d896d75",
   "metadata": {},
   "outputs": [],
   "source": [
    "# Pays les plus fréquents\n",
    "top_countries = df_enriched.groupBy(\"country\") \\\n",
    "    .count() \\\n",
    "    .orderBy(\"count\", ascending=False) \\\n",
    "    .filter(col(\"country\").isNotNull() & (col(\"country\") != \"\")) \\\n",
    "    .limit(20)\n",
    "\n",
    "top_countries.coalesce(1) \\\n",
    "    .write.option(\"header\", \"true\") \\\n",
    "    .mode(\"overwrite\") \\\n",
    "    .csv(\"../data/viz_top_countries\")"
   ]
  }
 ],
 "metadata": {
  "kernelspec": {
   "display_name": "Python 3 (ipykernel)",
   "language": "python",
   "name": "python3"
  },
  "language_info": {
   "codemirror_mode": {
    "name": "ipython",
    "version": 3
   },
   "file_extension": ".py",
   "mimetype": "text/x-python",
   "name": "python",
   "nbconvert_exporter": "python",
   "pygments_lexer": "ipython3",
   "version": "3.10.6"
  }
 },
 "nbformat": 4,
 "nbformat_minor": 5
}
