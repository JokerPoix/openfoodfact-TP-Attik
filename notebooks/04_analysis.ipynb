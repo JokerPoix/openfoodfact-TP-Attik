{
 "cells": [
  {
   "cell_type": "markdown",
   "id": "6ba7aba4",
   "metadata": {},
   "source": [
    "# 📊 04 - Analyse de Données avec Spark\n",
    "Ce notebook a pour objectif de fournir des données d'analyse à partir des données déjà transformées, nettoyées et enrichies.\n"
   ]
  },
  {
   "cell_type": "code",
   "execution_count": 1,
   "id": "227980a4-00b6-4f3b-b6b3-fd51250c1e29",
   "metadata": {},
   "outputs": [],
   "source": [
    "# 0. Stoppe toute session existante\n",
    "try:\n",
    "    spark.stop()\n",
    "except:\n",
    "    pass\n",
    "\n",
    "# Recréation SparkSession en local, FS local et driver binding fixe\n",
    "from pyspark.sql import SparkSession\n",
    "spark = (\n",
    "    SparkSession.builder\n",
    "        .appName(\"03_Enrichment\")\n",
    "        .master(\"local[*]\")\n",
    "        .config(\"spark.hadoop.fs.defaultFS\", \"file:///\")\n",
    "        .config(\"spark.driver.host\", \"127.0.0.1\")\n",
    "        .config(\"spark.driver.bindAddress\", \"0.0.0.0\")\n",
    "        .getOrCreate()\n",
    ")\n"
   ]
  },
  {
   "cell_type": "code",
   "execution_count": 2,
   "id": "65f9d412",
   "metadata": {},
   "outputs": [],
   "source": [
    "from pyspark.sql.functions import col, lower, trim, count\n",
    "import os\n",
    "\n",
    "# 1. Chargement\n",
    "path = os.path.abspath(os.path.join(os.getcwd(), \"../data/step3_enriched_csv\"))\n",
    "df_enriched = spark.read.option(\"header\", \"true\").option(\"sep\", \";\").csv(path)"
   ]
  },
  {
   "cell_type": "code",
   "execution_count": 3,
   "id": "c84938c7-9644-4a48-a095-6964c53a5855",
   "metadata": {},
   "outputs": [],
   "source": [
    "# Marques les plus fréquentes\n",
    "top_brands = df_enriched.groupBy(\"brands\") \\\n",
    "    .count() \\\n",
    "    .orderBy(\"count\", ascending=False) \\\n",
    "    .filter(col(\"brands\").isNotNull() & (col(\"brands\") != \"\")) \\\n",
    "    .limit(30)\n",
    "\n",
    "# Sauvegarde pour la visualisation\n",
    "top_brands.coalesce(1) \\\n",
    "    .write.option(\"header\", \"true\") \\\n",
    "    .mode(\"overwrite\") \\\n",
    "    .csv(\"../data/viz/top_brands\")"
   ]
  },
  {
   "cell_type": "code",
   "execution_count": 4,
   "id": "fb54ef92-9ad3-4035-a391-63241d896d75",
   "metadata": {},
   "outputs": [],
   "source": [
    "# Pays les plus fréquents\n",
    "top_countries = df_enriched.groupBy(\"country\") \\\n",
    "    .count() \\\n",
    "    .orderBy(\"count\", ascending=False) \\\n",
    "    .filter(col(\"country\").isNotNull() & (col(\"country\") != \"\")) \\\n",
    "    .limit(20)\n",
    "\n",
    "top_countries.coalesce(1) \\\n",
    "    .write.option(\"header\", \"true\") \\\n",
    "    .mode(\"overwrite\") \\\n",
    "    .csv(\"../data/viz/top_countries\")"
   ]
  },
  {
   "cell_type": "code",
   "execution_count": 5,
   "id": "23bb50a5-ae14-48d1-9927-24ec80d0d6ef",
   "metadata": {},
   "outputs": [],
   "source": [
    "# 📊 Moyenne score_env_composite_flexible par pays (classés par fréquence d’apparition)\n",
    "from pyspark.sql import functions as F\n",
    "\n",
    "# Fréquence des pays\n",
    "country_freq = df_enriched.groupBy(\"country\").count()\n",
    "\n",
    "# Moyenne des scores environnementaux\n",
    "score_by_country = df_enriched.groupBy(\"country\") \\\n",
    "    .agg(F.avg(\"score_env_composite_flexible\").alias(\"avg_score_env_composite_flexible\"))\n",
    "\n",
    "# Jointure et tri par fréquence décroissante\n",
    "result_country = score_by_country.join(country_freq, on=\"country\") \\\n",
    "    .orderBy(F.desc(\"count\"))\n",
    "\n",
    "result_country.coalesce(1) \\\n",
    "    .write.option(\"header\", \"true\") \\\n",
    "    .option(\"sep\", \";\") \\\n",
    "    .mode(\"overwrite\") \\\n",
    "    .csv(\"../data/viz/score_env_by_country\")\n"
   ]
  },
  {
   "cell_type": "code",
   "execution_count": 6,
   "id": "d7a0af72-952a-4e1c-9cd5-2590cf249643",
   "metadata": {},
   "outputs": [],
   "source": [
    "# Moyenne score_composite par pays (classés par fréquence d’apparition)\n",
    "\n",
    "score_composite_by_country = df_enriched.groupBy(\"country\") \\\n",
    "    .agg(F.avg(\"score_composite\").alias(\"avg_score_composite\"))\n",
    "\n",
    "result_composite_country = score_composite_by_country.join(country_freq, on=\"country\") \\\n",
    "    .orderBy(F.desc(\"count\"))\n",
    "\n",
    "result_composite_country.coalesce(1) \\\n",
    "    .write.option(\"header\", \"true\") \\\n",
    "    .option(\"sep\", \";\") \\\n",
    "    .mode(\"overwrite\") \\\n",
    "    .csv(\"../data/viz/score_composite_by_country\")\n"
   ]
  },
  {
   "cell_type": "code",
   "execution_count": 7,
   "id": "87d2cd37-d351-4ad7-b4be-5a7b3aad6b14",
   "metadata": {},
   "outputs": [],
   "source": [
    "# 🏷️ Moyenne score_env_composite_flexible par marque (classées par fréquence)\n",
    "\n",
    "brand_freq = df_enriched.groupBy(\"brands\").count()\n",
    "\n",
    "score_by_brand = df_enriched.groupBy(\"brands\") \\\n",
    "    .agg(F.avg(\"score_env_composite_flexible\").alias(\"avg_score_env_composite_flexible\"))\n",
    "\n",
    "result_brand = score_by_brand.join(brand_freq, on=\"brands\") \\\n",
    "    .orderBy(F.desc(\"count\"))\n",
    "\n",
    "result_brand.coalesce(1) \\\n",
    "    .write.option(\"header\", \"true\") \\\n",
    "    .option(\"sep\", \";\") \\\n",
    "    .mode(\"overwrite\") \\\n",
    "    .csv(\"../data/viz/score_env_by_brand\")\n"
   ]
  },
  {
   "cell_type": "code",
   "execution_count": 8,
   "id": "820e8c34-5fd8-4fc5-8c3f-bd310fb92421",
   "metadata": {},
   "outputs": [],
   "source": [
    "# 🏷️ Moyenne score_composite par marque (classées par fréquence)\n",
    "\n",
    "score_composite_by_brand = df_enriched.groupBy(\"brands\") \\\n",
    "    .agg(F.avg(\"score_composite\").alias(\"avg_score_composite\"))\n",
    "\n",
    "result_composite_brand = score_composite_by_brand.join(brand_freq, on=\"brands\") \\\n",
    "    .orderBy(F.desc(\"count\"))\n",
    "\n",
    "result_composite_brand.coalesce(1) \\\n",
    "    .write.option(\"header\", \"true\") \\\n",
    "    .option(\"sep\", \";\") \\\n",
    "    .mode(\"overwrite\") \\\n",
    "    .csv(\"../data/viz/score_composite_by_brand\")\n"
   ]
  },
  {
   "cell_type": "code",
   "execution_count": null,
   "id": "e538c60f-1716-45b6-8054-8aed4f53660a",
   "metadata": {},
   "outputs": [
    {
     "name": "stdout",
     "output_type": "stream",
     "text": [
      "+-------------+-----------------------------+--------------------+-------------------+------------------+----------------+---------------+-----------+\n",
      "|country      |brands                       |avg_env_score       |avg_composite_score|avg_kcal          |grouping_country|grouping_brands|grouping_id|\n",
      "+-------------+-----------------------------+--------------------+-------------------+------------------+----------------+---------------+-----------+\n",
      "|france       |inkospor                     |2.3                 |1.8                |302.6779661016949 |0               |0              |0          |\n",
      "|unitedstates |arrowhead                    |null                |2.771428571428572  |0.0               |0               |0              |0          |\n",
      "|italy        |king island                  |3.5                 |null               |14.0              |0               |0              |0          |\n",
      "|france       |verrière traiteur            |-0.45454545454545453|1.7684210526315787 |166.95            |0               |0              |0          |\n",
      "|spain        |serpis                       |-2.025              |1.28               |149.39999999999998|0               |0              |0          |\n",
      "|unitedstates |trader joe's, trader giotto's|null                |null               |266.6667          |0               |0              |0          |\n",
      "|spain        |cabreiroá                    |null                |null               |null              |0               |0              |0          |\n",
      "|france       |spaña sol                    |1.7666666666666664  |2.25               |248.43206896551726|0               |0              |0          |\n",
      "|australia    |birds eye                    |1.2583333333333335  |2.576              |145.92553756376662|0               |0              |0          |\n",
      "|australia    |abe                          |null                |null               |9.52              |0               |0              |0          |\n",
      "|italy        |brezzo                       |-0.42912621359223296|2.6                |270.52382550335574|0               |0              |0          |\n",
      "|france       |ducros                       |1.263081395348837   |3.3851851851851857 |217.36773255813952|0               |0              |0          |\n",
      "|malta        |naturis, solevita, vitafit   |-1.2999999999999998 |3.2                |45.0              |0               |0              |0          |\n",
      "|unitedkingdom|moser roth                   |2.8666666666666667  |1.2181818181818183 |561.6944444444445 |0               |0              |0          |\n",
      "|belgium      |match                        |2.3062500000000004  |2.4400000000000004 |381.21846153846155|0               |0              |0          |\n",
      "|unitedstates |seven stars bakery           |null                |null               |212.0             |0               |0              |0          |\n",
      "|unitedstates |specially selected aldi      |null                |null               |282.78395061728395|0               |0              |0          |\n",
      "|italy        |virgilio                     |1.9000000000000001  |2.2                |476.9259259259259 |0               |0              |0          |\n",
      "|france       |bahier                       |2.4915887850467286  |1.611764705882353  |251.28676470588235|0               |0              |0          |\n",
      "|spain        |bonners finest               |null                |null               |89.0              |0               |0              |0          |\n",
      "+-------------+-----------------------------+--------------------+-------------------+------------------+----------------+---------------+-----------+\n",
      "only showing top 20 rows\n",
      "\n"
     ]
    }
   ],
   "source": [
    "from pyspark.sql.functions import col\n",
    "\n",
    "# Étape 1 : Préparer les données et créer une vue temporaire\n",
    "df_base = df_enriched.select(\n",
    "    col(\"country\"),\n",
    "    col(\"brands\"),\n",
    "    col(\"score_env_composite_flexible\").cast(\"double\").alias(\"score_env_composite_flexible\"),\n",
    "    col(\"score_composite\").cast(\"double\").alias(\"score_composite\"),\n",
    "    col(\"energy-kcal_100g\").cast(\"double\").alias(\"energy_kcal_100g\")\n",
    ")\n",
    "\n",
    "df_base.createOrReplaceTempView(\"df_base\")\n",
    "\n",
    "# Étape 2 : Requête SQL avec CUBE et GROUPING_ID\n",
    "query = \"\"\"\n",
    "SELECT\n",
    "    country,\n",
    "    brands,\n",
    "    AVG(score_env_composite_flexible) AS avg_env_score,\n",
    "    AVG(score_composite) AS avg_composite_score,\n",
    "    AVG(energy_kcal_100g) AS avg_kcal,\n",
    "    GROUPING(country) AS grouping_country,\n",
    "    GROUPING(brands) AS grouping_brands,\n",
    "    GROUPING_ID(country, brands) AS grouping_id\n",
    "FROM df_base\n",
    "GROUP BY CUBE(country, brands)\n",
    "ORDER BY grouping_country, grouping_brands\n",
    "\"\"\"\n",
    "\n",
    "df_grouped = spark.sql(query)\n",
    "\n",
    "# Étape 3 : Affichage\n",
    "df_grouped.show(truncate=False)\n",
    "\n",
    "df_grouped.coalesce(1) \\\n",
    "    .write.option(\"header\", \"true\") \\\n",
    "    .option(\"sep\", \";\") \\\n",
    "    .mode(\"overwrite\") \\\n",
    "    .csv(\"../data/viz/cube_agg_country_brand_scores\")\n"
   ]
  }
 ],
 "metadata": {
  "kernelspec": {
   "display_name": "Python 3 (ipykernel)",
   "language": "python",
   "name": "python3"
  },
  "language_info": {
   "codemirror_mode": {
    "name": "ipython",
    "version": 3
   },
   "file_extension": ".py",
   "mimetype": "text/x-python",
   "name": "python",
   "nbconvert_exporter": "python",
   "pygments_lexer": "ipython3",
   "version": "3.10.6"
  }
 },
 "nbformat": 4,
 "nbformat_minor": 5
}
