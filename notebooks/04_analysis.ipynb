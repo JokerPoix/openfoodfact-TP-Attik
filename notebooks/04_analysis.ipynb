{
 "cells": [
  {
   "cell_type": "markdown",
   "id": "6ba7aba4",
   "metadata": {},
   "source": [
    "# 📊 04 - Analyse de Données avec Spark\n",
    "Ce notebook a pour objectif d'analyser les données déjà transformées, nettoyées et enrichies.\n"
   ]
  }
 ],
 "metadata": {
  "language_info": {
   "name": "python"
  }
 },
 "nbformat": 4,
 "nbformat_minor": 5
}
