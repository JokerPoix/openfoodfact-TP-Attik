{
 "cells": [
  {
   "cell_type": "markdown",
   "id": "641a850c",
   "metadata": {},
   "source": [
    "# 📊 Projet OpenFoodFacts - Pipeline ETL avec PySpark\n",
    "Ce notebook illustre les étapes principales d’un pipeline de traitement de données OpenFoodFacts avec **Apache Spark** dans Google Colab."
   ]
  },
  {
   "cell_type": "code",
   "execution_count": null,
   "id": "082302fb",
   "metadata": {},
   "outputs": [],
   "source": [
    "# ✅ Installer PySpark\n",
    "!pip install pyspark"
   ]
  },
  {
   "cell_type": "code",
   "execution_count": null,
   "id": "8b141e21",
   "metadata": {},
   "outputs": [],
   "source": [
    "# ✅ Importer les librairies\n",
    "from pyspark.sql import SparkSession\n",
    "from pyspark.sql.functions import col\n",
    "\n",
    "spark = SparkSession.builder \\\n",
    "    .appName('OpenFoodFactsETL') \\\n",
    "    .getOrCreate()"
   ]
  },
  {
   "cell_type": "markdown",
   "id": "b76015f7",
   "metadata": {},
   "source": [
    "## 📥 1. Chargement des données (CSV.gz)\n",
    "On charge un fichier OpenFoodFacts. Tu peux utiliser un sous-échantillon ou uploader un fichier `.csv.gz` via l'interface Colab."
   ]
  },
  {
   "cell_type": "code",
   "execution_count": null,
   "id": "85ab73d1",
   "metadata": {},
   "outputs": [],
   "source": [
    "# Exemple : téléchargement d'un petit fichier de test\n",
    "!wget -O openfoodfacts_sample.csv.gz \"https://static.openfoodfacts.org/data/en.openfoodfacts.org.products.csv.gz\""
   ]
  },
  {
   "cell_type": "code",
   "execution_count": null,
   "id": "b1b3a83a",
   "metadata": {},
   "outputs": [],
   "source": [
    "# Lecture du fichier CSV.gz avec inférence de schéma\n",
    "df = spark.read.csv('openfoodfacts_sample.csv.gz', header=True, inferSchema=True, sep='\\t')\n",
    "df.printSchema()\n",
    "df.show(5)"
   ]
  },
  {
   "cell_type": "markdown",
   "id": "e1f48332",
   "metadata": {},
   "source": [
    "## 🧹 2. Nettoyage et filtrage\n",
    "On garde quelques colonnes utiles et filtre les lignes incomplètes."
   ]
  },
  {
   "cell_type": "code",
   "execution_count": null,
   "id": "0262180e",
   "metadata": {},
   "outputs": [],
   "source": [
    "# Garder quelques colonnes pertinentes\n",
    "columns = ['product_name', 'brands', 'nutriscore_score', 'countries', 'ingredients_text']\n",
    "df_clean = df.select([col(c) for c in columns])\n",
    "df_clean = df_clean.na.drop()\n",
    "df_clean.show(5)"
   ]
  },
  {
   "cell_type": "markdown",
   "id": "1f3b1ac3",
   "metadata": {},
   "source": [
    "## 📊 3. Analyse simple : Top 10 des marques les plus présentes"
   ]
  },
  {
   "cell_type": "code",
   "execution_count": null,
   "id": "59ed7000",
   "metadata": {},
   "outputs": [],
   "source": [
    "df_clean.groupBy('brands') \\\n",
    "    .count() \\\n",
    "    .orderBy('count', ascending=False) \\\n",
    "    .show(10)"
   ]
  },
  {
   "cell_type": "markdown",
   "id": "6f74e166",
   "metadata": {},
   "source": [
    "## 💾 4. Sauvegarde au format Parquet\n",
    "On sauvegarde un échantillon localement (dans l’environnement Colab)."
   ]
  },
  {
   "cell_type": "code",
   "execution_count": null,
   "id": "368fca2d",
   "metadata": {},
   "outputs": [],
   "source": [
    "df_clean.limit(1000).write.mode('overwrite').parquet('openfoodfacts_clean.parquet')"
   ]
  },
  {
   "cell_type": "markdown",
   "id": "73106202",
   "metadata": {},
   "source": [
    "## ✅ Fin du pipeline\n",
    "Ce notebook est une version légère et interactive du traitement effectué localement avec Spark Java/Maven."
   ]
  }
 ],
 "metadata": {
  "kernelspec": {
   "display_name": "Python 3 (ipykernel)",
   "language": "python",
   "name": "python3"
  },
  "language_info": {
   "codemirror_mode": {
    "name": "ipython",
    "version": 3
   },
   "file_extension": ".py",
   "mimetype": "text/x-python",
   "name": "python",
   "nbconvert_exporter": "python",
   "pygments_lexer": "ipython3",
   "version": "3.10.6"
  }
 },
 "nbformat": 4,
 "nbformat_minor": 5
}
