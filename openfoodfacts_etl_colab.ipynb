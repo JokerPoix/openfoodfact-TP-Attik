{
 "cells": [
  {
   "cell_type": "markdown",
   "id": "641a850c",
   "metadata": {},
   "source": [
    "# 📊 Projet OpenFoodFacts - Pipeline ETL avec PySpark\n",
    "Ce notebook illustre les étapes principales d’un pipeline de traitement de données OpenFoodFacts avec **Apache Spark** dans Google Colab."
   ]
  },
  {
   "cell_type": "code",
   "execution_count": 1,
   "id": "082302fb",
   "metadata": {},
   "outputs": [
    {
     "name": "stdout",
     "output_type": "stream",
     "text": [
      "Defaulting to user installation because normal site-packages is not writeable\n",
      "Collecting pyspark\n",
      "  Downloading pyspark-4.0.0.tar.gz (434.1 MB)\n",
      "     ---------------------------------------- 0.0/434.1 MB ? eta -:--:--\n",
      "      -------------------------------------- 8.9/434.1 MB 50.3 MB/s eta 0:00:09\n",
      "     - ------------------------------------ 16.0/434.1 MB 45.9 MB/s eta 0:00:10\n",
      "     -- ----------------------------------- 29.9/434.1 MB 50.0 MB/s eta 0:00:09\n",
      "     ---- --------------------------------- 50.9/434.1 MB 63.5 MB/s eta 0:00:07\n",
      "     ----- -------------------------------- 68.4/434.1 MB 69.3 MB/s eta 0:00:06\n",
      "     ------- ------------------------------ 86.0/434.1 MB 70.4 MB/s eta 0:00:05\n",
      "     --------- --------------------------- 107.5/434.1 MB 75.4 MB/s eta 0:00:05\n",
      "     ---------- -------------------------- 121.4/434.1 MB 73.8 MB/s eta 0:00:05\n",
      "     ---------- -------------------------- 126.9/434.1 MB 72.4 MB/s eta 0:00:05\n",
      "     ---------- -------------------------- 129.0/434.1 MB 62.9 MB/s eta 0:00:05\n",
      "     ------------ ------------------------ 141.6/434.1 MB 62.4 MB/s eta 0:00:05\n",
      "     ------------- ----------------------- 157.5/434.1 MB 63.3 MB/s eta 0:00:05\n",
      "     -------------- ---------------------- 173.8/434.1 MB 64.6 MB/s eta 0:00:05\n",
      "     --------------- --------------------- 186.6/434.1 MB 65.2 MB/s eta 0:00:04\n",
      "     ---------------- -------------------- 193.2/434.1 MB 62.4 MB/s eta 0:00:04\n",
      "     ----------------- ------------------- 202.9/434.1 MB 61.5 MB/s eta 0:00:04\n",
      "     ------------------ ------------------ 215.7/434.1 MB 61.3 MB/s eta 0:00:04\n",
      "     ------------------- ----------------- 231.7/434.1 MB 62.3 MB/s eta 0:00:04\n",
      "     -------------------- ---------------- 238.0/434.1 MB 62.6 MB/s eta 0:00:04\n",
      "     -------------------- ---------------- 239.1/434.1 MB 59.5 MB/s eta 0:00:04\n",
      "     --------------------- --------------- 246.7/434.1 MB 56.7 MB/s eta 0:00:04\n",
      "     ---------------------- -------------- 263.2/434.1 MB 57.6 MB/s eta 0:00:03\n",
      "     ----------------------- ------------- 281.5/434.1 MB 60.9 MB/s eta 0:00:03\n",
      "     ------------------------- ----------- 300.7/434.1 MB 60.7 MB/s eta 0:00:03\n",
      "     -------------------------- ---------- 314.0/434.1 MB 59.6 MB/s eta 0:00:03\n",
      "     ---------------------------- -------- 330.0/434.1 MB 58.8 MB/s eta 0:00:02\n",
      "     ----------------------------- ------- 343.9/434.1 MB 58.8 MB/s eta 0:00:02\n",
      "     ------------------------------ ------ 354.7/434.1 MB 57.6 MB/s eta 0:00:02\n",
      "     ------------------------------- ----- 365.2/434.1 MB 56.2 MB/s eta 0:00:02\n",
      "     -------------------------------- ---- 379.6/434.1 MB 55.7 MB/s eta 0:00:01\n",
      "     -------------------------------- ---- 385.1/434.1 MB 54.4 MB/s eta 0:00:01\n",
      "     ---------------------------------- -- 399.0/434.1 MB 57.8 MB/s eta 0:00:01\n",
      "     ---------------------------------- -- 410.3/434.1 MB 57.4 MB/s eta 0:00:01\n",
      "     ----------------------------------- - 418.4/434.1 MB 57.4 MB/s eta 0:00:01\n",
      "     ----------------------------------- - 421.0/434.1 MB 54.4 MB/s eta 0:00:01\n",
      "     ------------------------------------  434.1/434.1 MB 54.4 MB/s eta 0:00:01\n",
      "     ------------------------------------  434.1/434.1 MB 54.4 MB/s eta 0:00:01\n",
      "     ------------------------------------  434.1/434.1 MB 54.4 MB/s eta 0:00:01\n",
      "     ------------------------------------- 434.1/434.1 MB 47.8 MB/s eta 0:00:00\n",
      "  Installing build dependencies: started\n",
      "  Installing build dependencies: finished with status 'done'\n",
      "  Getting requirements to build wheel: started\n",
      "  Getting requirements to build wheel: finished with status 'done'\n",
      "  Preparing metadata (pyproject.toml): started\n",
      "  Preparing metadata (pyproject.toml): finished with status 'done'\n",
      "Collecting py4j==0.10.9.9 (from pyspark)\n",
      "  Downloading py4j-0.10.9.9-py2.py3-none-any.whl.metadata (1.3 kB)\n",
      "Downloading py4j-0.10.9.9-py2.py3-none-any.whl (203 kB)\n",
      "Building wheels for collected packages: pyspark\n",
      "  Building wheel for pyspark (pyproject.toml): started\n",
      "  Building wheel for pyspark (pyproject.toml): still running...\n",
      "  Building wheel for pyspark (pyproject.toml): finished with status 'done'\n",
      "  Created wheel for pyspark: filename=pyspark-4.0.0-py2.py3-none-any.whl size=434741340 sha256=6108fa0972dac70a0e9295d0ef65db4897a27b5a6a55ebb89830161772d1ca12\n",
      "  Stored in directory: c:\\users\\haute\\appdata\\local\\packages\\pythonsoftwarefoundation.python.3.12_qbz5n2kfra8p0\\localcache\\local\\pip\\cache\\wheels\\2d\\77\\9b\\12660be70f7f447940a0caede37ae208b2e0d1c8487dce52a6\n",
      "Successfully built pyspark\n",
      "Installing collected packages: py4j, pyspark\n",
      "Successfully installed py4j-0.10.9.9 pyspark-4.0.0\n"
     ]
    },
    {
     "name": "stderr",
     "output_type": "stream",
     "text": [
      "\n",
      "[notice] A new release of pip is available: 25.0.1 -> 25.1.1\n",
      "[notice] To update, run: C:\\Users\\haute\\AppData\\Local\\Microsoft\\WindowsApps\\PythonSoftwareFoundation.Python.3.12_qbz5n2kfra8p0\\python.exe -m pip install --upgrade pip\n"
     ]
    }
   ],
   "source": [
    "# ✅ Installer PySpark\n",
    "%pip install pyspark"
   ]
  },
  {
   "cell_type": "code",
   "execution_count": 2,
   "id": "8b141e21",
   "metadata": {},
   "outputs": [],
   "source": [
    "# ✅ Importer les librairies\n",
    "from pyspark.sql import SparkSession # type: ignore\n",
    "from pyspark.sql.functions import col # type: ignore\n",
    "\n",
    "spark = SparkSession.builder \\\n",
    "    .appName('OpenFoodFactsETL') \\\n",
    "    .getOrCreate()"
   ]
  },
  {
   "cell_type": "markdown",
   "id": "b76015f7",
   "metadata": {},
   "source": [
    "## 📥 1. Chargement des données (CSV.gz)\n",
    "On charge un fichier OpenFoodFacts. Tu peux utiliser un sous-échantillon ou uploader un fichier `.csv.gz` via l'interface Colab."
   ]
  },
  {
   "cell_type": "code",
   "execution_count": 3,
   "id": "85ab73d1",
   "metadata": {},
   "outputs": [
    {
     "name": "stderr",
     "output_type": "stream",
     "text": [
      "'wget' n'est pas reconnu en tant que commande interne\n",
      "ou externe, un programme ex�cutable ou un fichier de commandes.\n"
     ]
    }
   ],
   "source": [
    "# Exemple : téléchargement d'un petit fichier de test\n",
    "!wget -O openfoodfacts_sample.csv.gz \"https://static.openfoodfacts.org/data/en.openfoodfacts.org.products.csv.gz\""
   ]
  },
  {
   "cell_type": "code",
   "execution_count": 4,
   "id": "b1b3a83a",
   "metadata": {},
   "outputs": [
    {
     "ename": "AnalysisException",
     "evalue": "[PATH_NOT_FOUND] Path does not exist: file:/c:/Users/haute/Downloads/openfoodfacts_sample.csv.gz. SQLSTATE: 42K03",
     "output_type": "error",
     "traceback": [
      "\u001b[1;31m---------------------------------------------------------------------------\u001b[0m",
      "\u001b[1;31mAnalysisException\u001b[0m                         Traceback (most recent call last)",
      "Cell \u001b[1;32mIn[4], line 2\u001b[0m\n\u001b[0;32m      1\u001b[0m \u001b[38;5;66;03m# Lecture du fichier CSV.gz avec inférence de schéma\u001b[39;00m\n\u001b[1;32m----> 2\u001b[0m df \u001b[38;5;241m=\u001b[39m \u001b[43mspark\u001b[49m\u001b[38;5;241;43m.\u001b[39;49m\u001b[43mread\u001b[49m\u001b[38;5;241;43m.\u001b[39;49m\u001b[43mcsv\u001b[49m\u001b[43m(\u001b[49m\u001b[38;5;124;43m'\u001b[39;49m\u001b[38;5;124;43mopenfoodfacts_sample.csv.gz\u001b[39;49m\u001b[38;5;124;43m'\u001b[39;49m\u001b[43m,\u001b[49m\u001b[43m \u001b[49m\u001b[43mheader\u001b[49m\u001b[38;5;241;43m=\u001b[39;49m\u001b[38;5;28;43;01mTrue\u001b[39;49;00m\u001b[43m,\u001b[49m\u001b[43m \u001b[49m\u001b[43minferSchema\u001b[49m\u001b[38;5;241;43m=\u001b[39;49m\u001b[38;5;28;43;01mTrue\u001b[39;49;00m\u001b[43m,\u001b[49m\u001b[43m \u001b[49m\u001b[43msep\u001b[49m\u001b[38;5;241;43m=\u001b[39;49m\u001b[38;5;124;43m'\u001b[39;49m\u001b[38;5;130;43;01m\\t\u001b[39;49;00m\u001b[38;5;124;43m'\u001b[39;49m\u001b[43m)\u001b[49m\n\u001b[0;32m      3\u001b[0m df\u001b[38;5;241m.\u001b[39mprintSchema()\n\u001b[0;32m      4\u001b[0m df\u001b[38;5;241m.\u001b[39mshow(\u001b[38;5;241m5\u001b[39m)\n",
      "File \u001b[1;32m~\\AppData\\Local\\Packages\\PythonSoftwareFoundation.Python.3.12_qbz5n2kfra8p0\\LocalCache\\local-packages\\Python312\\site-packages\\pyspark\\sql\\readwriter.py:838\u001b[0m, in \u001b[0;36mDataFrameReader.csv\u001b[1;34m(self, path, schema, sep, encoding, quote, escape, comment, header, inferSchema, ignoreLeadingWhiteSpace, ignoreTrailingWhiteSpace, nullValue, nanValue, positiveInf, negativeInf, dateFormat, timestampFormat, maxColumns, maxCharsPerColumn, maxMalformedLogPerPartition, mode, columnNameOfCorruptRecord, multiLine, charToEscapeQuoteEscaping, samplingRatio, enforceSchema, emptyValue, locale, lineSep, pathGlobFilter, recursiveFileLookup, modifiedBefore, modifiedAfter, unescapedQuoteHandling)\u001b[0m\n\u001b[0;32m    836\u001b[0m \u001b[38;5;28;01mif\u001b[39;00m \u001b[38;5;28mtype\u001b[39m(path) \u001b[38;5;241m==\u001b[39m \u001b[38;5;28mlist\u001b[39m:\n\u001b[0;32m    837\u001b[0m     \u001b[38;5;28;01massert\u001b[39;00m \u001b[38;5;28mself\u001b[39m\u001b[38;5;241m.\u001b[39m_spark\u001b[38;5;241m.\u001b[39m_sc\u001b[38;5;241m.\u001b[39m_jvm \u001b[38;5;129;01mis\u001b[39;00m \u001b[38;5;129;01mnot\u001b[39;00m \u001b[38;5;28;01mNone\u001b[39;00m\n\u001b[1;32m--> 838\u001b[0m     \u001b[38;5;28;01mreturn\u001b[39;00m \u001b[38;5;28mself\u001b[39m\u001b[38;5;241m.\u001b[39m_df(\u001b[38;5;28;43mself\u001b[39;49m\u001b[38;5;241;43m.\u001b[39;49m\u001b[43m_jreader\u001b[49m\u001b[38;5;241;43m.\u001b[39;49m\u001b[43mcsv\u001b[49m\u001b[43m(\u001b[49m\u001b[38;5;28;43mself\u001b[39;49m\u001b[38;5;241;43m.\u001b[39;49m\u001b[43m_spark\u001b[49m\u001b[38;5;241;43m.\u001b[39;49m\u001b[43m_sc\u001b[49m\u001b[38;5;241;43m.\u001b[39;49m\u001b[43m_jvm\u001b[49m\u001b[38;5;241;43m.\u001b[39;49m\u001b[43mPythonUtils\u001b[49m\u001b[38;5;241;43m.\u001b[39;49m\u001b[43mtoSeq\u001b[49m\u001b[43m(\u001b[49m\u001b[43mpath\u001b[49m\u001b[43m)\u001b[49m\u001b[43m)\u001b[49m)\n\u001b[0;32m    840\u001b[0m \u001b[38;5;28;01mif\u001b[39;00m \u001b[38;5;129;01mnot\u001b[39;00m is_remote_only():\n\u001b[0;32m    841\u001b[0m     \u001b[38;5;28;01mfrom\u001b[39;00m \u001b[38;5;21;01mpyspark\u001b[39;00m\u001b[38;5;21;01m.\u001b[39;00m\u001b[38;5;21;01mcore\u001b[39;00m\u001b[38;5;21;01m.\u001b[39;00m\u001b[38;5;21;01mrdd\u001b[39;00m \u001b[38;5;28;01mimport\u001b[39;00m RDD  \u001b[38;5;66;03m# noqa: F401\u001b[39;00m\n",
      "File \u001b[1;32m~\\AppData\\Local\\Packages\\PythonSoftwareFoundation.Python.3.12_qbz5n2kfra8p0\\LocalCache\\local-packages\\Python312\\site-packages\\py4j\\java_gateway.py:1362\u001b[0m, in \u001b[0;36mJavaMember.__call__\u001b[1;34m(self, *args)\u001b[0m\n\u001b[0;32m   1356\u001b[0m command \u001b[38;5;241m=\u001b[39m proto\u001b[38;5;241m.\u001b[39mCALL_COMMAND_NAME \u001b[38;5;241m+\u001b[39m\\\n\u001b[0;32m   1357\u001b[0m     \u001b[38;5;28mself\u001b[39m\u001b[38;5;241m.\u001b[39mcommand_header \u001b[38;5;241m+\u001b[39m\\\n\u001b[0;32m   1358\u001b[0m     args_command \u001b[38;5;241m+\u001b[39m\\\n\u001b[0;32m   1359\u001b[0m     proto\u001b[38;5;241m.\u001b[39mEND_COMMAND_PART\n\u001b[0;32m   1361\u001b[0m answer \u001b[38;5;241m=\u001b[39m \u001b[38;5;28mself\u001b[39m\u001b[38;5;241m.\u001b[39mgateway_client\u001b[38;5;241m.\u001b[39msend_command(command)\n\u001b[1;32m-> 1362\u001b[0m return_value \u001b[38;5;241m=\u001b[39m \u001b[43mget_return_value\u001b[49m\u001b[43m(\u001b[49m\n\u001b[0;32m   1363\u001b[0m \u001b[43m    \u001b[49m\u001b[43manswer\u001b[49m\u001b[43m,\u001b[49m\u001b[43m \u001b[49m\u001b[38;5;28;43mself\u001b[39;49m\u001b[38;5;241;43m.\u001b[39;49m\u001b[43mgateway_client\u001b[49m\u001b[43m,\u001b[49m\u001b[43m \u001b[49m\u001b[38;5;28;43mself\u001b[39;49m\u001b[38;5;241;43m.\u001b[39;49m\u001b[43mtarget_id\u001b[49m\u001b[43m,\u001b[49m\u001b[43m \u001b[49m\u001b[38;5;28;43mself\u001b[39;49m\u001b[38;5;241;43m.\u001b[39;49m\u001b[43mname\u001b[49m\u001b[43m)\u001b[49m\n\u001b[0;32m   1365\u001b[0m \u001b[38;5;28;01mfor\u001b[39;00m temp_arg \u001b[38;5;129;01min\u001b[39;00m temp_args:\n\u001b[0;32m   1366\u001b[0m     \u001b[38;5;28;01mif\u001b[39;00m \u001b[38;5;28mhasattr\u001b[39m(temp_arg, \u001b[38;5;124m\"\u001b[39m\u001b[38;5;124m_detach\u001b[39m\u001b[38;5;124m\"\u001b[39m):\n",
      "File \u001b[1;32m~\\AppData\\Local\\Packages\\PythonSoftwareFoundation.Python.3.12_qbz5n2kfra8p0\\LocalCache\\local-packages\\Python312\\site-packages\\pyspark\\errors\\exceptions\\captured.py:288\u001b[0m, in \u001b[0;36mcapture_sql_exception.<locals>.deco\u001b[1;34m(*a, **kw)\u001b[0m\n\u001b[0;32m    284\u001b[0m converted \u001b[38;5;241m=\u001b[39m convert_exception(e\u001b[38;5;241m.\u001b[39mjava_exception)\n\u001b[0;32m    285\u001b[0m \u001b[38;5;28;01mif\u001b[39;00m \u001b[38;5;129;01mnot\u001b[39;00m \u001b[38;5;28misinstance\u001b[39m(converted, UnknownException):\n\u001b[0;32m    286\u001b[0m     \u001b[38;5;66;03m# Hide where the exception came from that shows a non-Pythonic\u001b[39;00m\n\u001b[0;32m    287\u001b[0m     \u001b[38;5;66;03m# JVM exception message.\u001b[39;00m\n\u001b[1;32m--> 288\u001b[0m     \u001b[38;5;28;01mraise\u001b[39;00m converted \u001b[38;5;28;01mfrom\u001b[39;00m \u001b[38;5;28;01mNone\u001b[39;00m\n\u001b[0;32m    289\u001b[0m \u001b[38;5;28;01melse\u001b[39;00m:\n\u001b[0;32m    290\u001b[0m     \u001b[38;5;28;01mraise\u001b[39;00m\n",
      "\u001b[1;31mAnalysisException\u001b[0m: [PATH_NOT_FOUND] Path does not exist: file:/c:/Users/haute/Downloads/openfoodfacts_sample.csv.gz. SQLSTATE: 42K03"
     ]
    }
   ],
   "source": [
    "# Lecture du fichier CSV.gz avec inférence de schéma\n",
    "df = spark.read.csv('openfoodfacts_sample.csv.gz', header=True, inferSchema=True, sep='\\t')\n",
    "df.printSchema()\n",
    "df.show(5)"
   ]
  },
  {
   "cell_type": "markdown",
   "id": "e1f48332",
   "metadata": {},
   "source": [
    "## 🧹 2. Nettoyage et filtrage\n",
    "On garde quelques colonnes utiles et filtre les lignes incomplètes."
   ]
  },
  {
   "cell_type": "code",
   "execution_count": null,
   "id": "0262180e",
   "metadata": {},
   "outputs": [],
   "source": [
    "# Garder quelques colonnes pertinentes\n",
    "columns = ['product_name', 'brands', 'nutriscore_score', 'countries', 'ingredients_text']\n",
    "df_clean = df.select([col(c) for c in columns])\n",
    "df_clean = df_clean.na.drop()\n",
    "df_clean.show(5)"
   ]
  },
  {
   "cell_type": "markdown",
   "id": "1f3b1ac3",
   "metadata": {},
   "source": [
    "## 📊 3. Analyse simple : Top 10 des marques les plus présentes"
   ]
  },
  {
   "cell_type": "code",
   "execution_count": null,
   "id": "59ed7000",
   "metadata": {},
   "outputs": [],
   "source": [
    "df_clean.groupBy('brands') \\\n",
    "    .count() \\\n",
    "    .orderBy('count', ascending=False) \\\n",
    "    .show(10)"
   ]
  },
  {
   "cell_type": "markdown",
   "id": "6f74e166",
   "metadata": {},
   "source": [
    "## 💾 4. Sauvegarde au format Parquet\n",
    "On sauvegarde un échantillon localement (dans l’environnement Colab)."
   ]
  },
  {
   "cell_type": "code",
   "execution_count": null,
   "id": "368fca2d",
   "metadata": {},
   "outputs": [],
   "source": [
    "df_clean.limit(1000).write.mode('overwrite').parquet('openfoodfacts_clean.parquet')"
   ]
  },
  {
   "cell_type": "markdown",
   "id": "73106202",
   "metadata": {},
   "source": [
    "## ✅ Fin du pipeline\n",
    "Ce notebook est une version légère et interactive du traitement effectué localement avec Spark Java/Maven."
   ]
  }
 ],
 "metadata": {
  "kernelspec": {
   "display_name": "Python 3",
   "language": "python",
   "name": "python3"
  },
  "language_info": {
   "codemirror_mode": {
    "name": "ipython",
    "version": 3
   },
   "file_extension": ".py",
   "mimetype": "text/x-python",
   "name": "python",
   "nbconvert_exporter": "python",
   "pygments_lexer": "ipython3",
   "version": "3.12.10"
  }
 },
 "nbformat": 4,
 "nbformat_minor": 5
}
